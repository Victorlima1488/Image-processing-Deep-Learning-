{
 "cells": [
  {
   "cell_type": "markdown",
   "metadata": {},
   "source": [
    "### Introdução a Deep Learning com TensorFlow\n",
    "\n",
    "Problema de Negócio:\n",
    "\n",
    "Construir um modelo de inteligência Artificial capaz de classificar imagens considerando 10 categorias: ['airplane', 'automobile', 'bird', 'cat', 'deer',  'dog', 'frog', 'horse', 'ship', 'truck']. Dada uma nova imagem de uma dessas categorias o modelo deve ser capaz de classificar e indicar o que é a imagem."
   ]
  },
  {
   "cell_type": "code",
   "execution_count": null,
   "metadata": {},
   "outputs": [],
   "source": [
    "# Silencia mensagens do TF\n",
    "%env TF_CPP_MIN_LOG_LEVEL=3"
   ]
  },
  {
   "cell_type": "code",
   "execution_count": null,
   "metadata": {},
   "outputs": [],
   "source": [
    "import tensorflow as tf\n",
    "from tensorflow.keras import datasets, layers, models\n",
    "import matplotlib.pyplot as plt\n",
    "import numpy as np\n",
    "from PIL import Image"
   ]
  },
  {
   "cell_type": "markdown",
   "metadata": {},
   "source": [
    "### Carregando os Dados"
   ]
  },
  {
   "cell_type": "code",
   "execution_count": null,
   "metadata": {},
   "outputs": [],
   "source": [
    "# Carregando os dataset CIFAR-10\n",
    "(imagens_treino, labels_treino), (imagens_teste, labels_teste) = datasets.cifar10.load_data()"
   ]
  },
  {
   "cell_type": "code",
   "execution_count": null,
   "metadata": {},
   "outputs": [],
   "source": [
    "# Classes das imagens\n",
    "nomes_classes = ['airplane', 'automobile', 'bird', 'cat', 'deer',  'dog', 'frog', 'horse', 'ship', 'truck']"
   ]
  },
  {
   "cell_type": "markdown",
   "metadata": {},
   "source": [
    "### Pré-Processamento e Visualização das imagens"
   ]
  },
  {
   "cell_type": "code",
   "execution_count": null,
   "metadata": {},
   "outputs": [],
   "source": [
    "# Normaliza os valores dos pixels para que os dados fiquem na mesma escala\n",
    "imagens_treino = imagens_treino / 255.0\n",
    "imagens_teste = imagens_teste / 255.0"
   ]
  },
  {
   "cell_type": "code",
   "execution_count": null,
   "metadata": {},
   "outputs": [],
   "source": [
    "# Função para exibir as imagens\n",
    "def visualiza_imagens(images, labels):\n",
    "    plt.figure(figsize = (10,10))\n",
    "    for i in range(25):\n",
    "        plt.subplot(5, 5, i+1)\n",
    "        plt.xticks([])\n",
    "        plt.yticks([])\n",
    "        plt.grid(False)\n",
    "        plt.imshow(images[i], cmap = plt.cm.binary)\n",
    "        plt.xlabel(nomes_classes[labels[i][0]])\n",
    "    plt.show()"
   ]
  },
  {
   "cell_type": "code",
   "execution_count": null,
   "metadata": {},
   "outputs": [],
   "source": [
    "# Executa a função\n",
    "visualiza_imagens(imagens_treino, labels_treino)"
   ]
  },
  {
   "cell_type": "markdown",
   "metadata": {},
   "source": [
    "## Construção do Modelo\n",
    "\n",
    "www.deeplearningbook.com.br\n",
    "\n",
    "![IMG](imagens/convnet.jpg)"
   ]
  },
  {
   "cell_type": "code",
   "execution_count": null,
   "metadata": {},
   "outputs": [],
   "source": [
    "# Modelo\n",
    "\n",
    "# Cria o objeto de sequência de camadas\n",
    "modelo_dsa = models.Sequential()\n",
    "\n",
    "# Adiciona o primeiro bloco de convolução e max pooling (camada de entrada)\n",
    "modelo_dsa.add(layers.Conv2D(32, (3, 3), activation = 'relu', input_shape = (32, 32, 3)))\n",
    "modelo_dsa.add(layers.MaxPooling2D((2, 2)))\n",
    "\n",
    "# Adiciona o segundo bloco de convolução e max pooling (camada intermediária)\n",
    "modelo_dsa.add(layers.Conv2D(64, (3, 3), activation = 'relu'))\n",
    "modelo_dsa.add(layers.MaxPooling2D((2, 2)))\n",
    "\n",
    "# Adiciona o terceiro bloco de convolução e max pooling (camada intermediária)\n",
    "modelo_dsa.add(layers.Conv2D(64, (3, 3), activation = 'relu'))\n",
    "modelo_dsa.add(layers.MaxPooling2D((2, 2)))"
   ]
  },
  {
   "cell_type": "code",
   "execution_count": null,
   "metadata": {},
   "outputs": [],
   "source": [
    "# Adicionar camadas de classificação\n",
    "modelo_dsa.add(layers.Flatten())\n",
    "modelo_dsa.add(layers.Dense(64, activation = 'relu'))\n",
    "modelo_dsa.add(layers.Dense(10, activation = 'softmax'))"
   ]
  },
  {
   "cell_type": "code",
   "execution_count": null,
   "metadata": {},
   "outputs": [],
   "source": [
    "# Sumário do modelo\n",
    "modelo_dsa.summary()"
   ]
  },
  {
   "cell_type": "code",
   "execution_count": null,
   "metadata": {},
   "outputs": [],
   "source": [
    "# Compilação do modelo\n",
    "modelo_dsa.compile(optimizer = 'adam', \n",
    "                   loss = 'sparse_categorical_crossentropy', \n",
    "                   metrics = ['accuracy'])"
   ]
  },
  {
   "cell_type": "code",
   "execution_count": null,
   "metadata": {},
   "outputs": [],
   "source": [
    "%%time\n",
    "history = modelo_dsa.fit(imagens_treino, \n",
    "                         labels_treino, \n",
    "                         epochs = 10, \n",
    "                         validation_data = (imagens_teste, labels_teste))"
   ]
  },
  {
   "cell_type": "markdown",
   "metadata": {},
   "source": [
    "### Avaliação do Modelo"
   ]
  },
  {
   "cell_type": "code",
   "execution_count": null,
   "metadata": {},
   "outputs": [],
   "source": [
    "# Avalia o modelo\n",
    "erro_teste, acc_teste = modelo_dsa.evaluate(imagens_teste, labels_teste, verbose = 2)"
   ]
  },
  {
   "cell_type": "code",
   "execution_count": null,
   "metadata": {},
   "outputs": [],
   "source": [
    "print('\\nAcurácia com Dados de Teste:', acc_teste)"
   ]
  },
  {
   "cell_type": "markdown",
   "metadata": {},
   "source": [
    "### Deploy do modelo"
   ]
  },
  {
   "cell_type": "code",
   "execution_count": null,
   "metadata": {},
   "outputs": [],
   "source": [
    "# Carrega uma nova imagem\n",
    "nova_imagem = Image.open(\"dados/nova_imagem.jpg\")"
   ]
  },
  {
   "cell_type": "code",
   "execution_count": null,
   "metadata": {},
   "outputs": [],
   "source": [
    "# Dimensões da imagem (em pixels)\n",
    "nova_imagem.size"
   ]
  },
  {
   "cell_type": "code",
   "execution_count": null,
   "metadata": {},
   "outputs": [],
   "source": [
    "# Obtém largura e altura da imagem\n",
    "largura = nova_imagem.width\n",
    "altura = nova_imagem.height"
   ]
  },
  {
   "cell_type": "code",
   "execution_count": null,
   "metadata": {},
   "outputs": [],
   "source": [
    "print(\"A largura da imagem é: \", largura)\n",
    "print(\"A altura da imagem é: \", altura)"
   ]
  },
  {
   "cell_type": "code",
   "execution_count": null,
   "metadata": {},
   "outputs": [],
   "source": [
    "# Redimensiona para 32x32 pixels\n",
    "nova_imagem = nova_imagem.resize((32, 32))"
   ]
  },
  {
   "cell_type": "code",
   "execution_count": null,
   "metadata": {},
   "outputs": [],
   "source": [
    "# Exibir a imagem\n",
    "plt.figure(figsize = (1,1))\n",
    "plt.imshow(nova_imagem)\n",
    "plt.xticks([])\n",
    "plt.yticks([])\n",
    "plt.show()"
   ]
  },
  {
   "cell_type": "code",
   "execution_count": null,
   "metadata": {},
   "outputs": [],
   "source": [
    "# Converte a imagem para um array NumPy e normaliza\n",
    "nova_imagem_array = np.array(nova_imagem) / 255.0"
   ]
  },
  {
   "cell_type": "code",
   "execution_count": null,
   "metadata": {},
   "outputs": [],
   "source": [
    "# Expande a dimensão do array para que ele tenha o formato (1, 32, 32, 3)\n",
    "nova_imagem_array = np.expand_dims(nova_imagem_array, axis = 0) "
   ]
  },
  {
   "cell_type": "code",
   "execution_count": null,
   "metadata": {},
   "outputs": [],
   "source": [
    "# Previsões\n",
    "previsoes = modelo_dsa.predict(nova_imagem_array)"
   ]
  },
  {
   "cell_type": "code",
   "execution_count": null,
   "metadata": {},
   "outputs": [],
   "source": [
    "print(previsoes)"
   ]
  },
  {
   "cell_type": "code",
   "execution_count": null,
   "metadata": {},
   "outputs": [],
   "source": [
    "# Obtém a classe com maior probabilidade e o nome da classe\n",
    "classe_prevista = np.argmax(previsoes)\n",
    "nome_classe_prevista = nomes_classes[classe_prevista]"
   ]
  },
  {
   "cell_type": "code",
   "execution_count": null,
   "metadata": {},
   "outputs": [],
   "source": [
    "print(\"A nova imagem foi classificada como:\", nome_classe_prevista)"
   ]
  }
 ],
 "metadata": {
  "kernelspec": {
   "display_name": "base",
   "language": "python",
   "name": "python3"
  },
  "language_info": {
   "codemirror_mode": {
    "name": "ipython",
    "version": 3
   },
   "file_extension": ".py",
   "mimetype": "text/x-python",
   "name": "python",
   "nbconvert_exporter": "python",
   "pygments_lexer": "ipython3",
   "version": "3.9.13"
  }
 },
 "nbformat": 4,
 "nbformat_minor": 2
}
